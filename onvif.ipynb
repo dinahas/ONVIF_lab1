{
 "cells": [
  {
   "cell_type": "code",
   "execution_count": 1,
   "metadata": {},
   "outputs": [],
   "source": [
    "from time import sleep\n",
    "from onvif import ONVIFCamera\n",
    "from pynput import keyboard"
   ]
  },
  {
   "cell_type": "code",
   "execution_count": 2,
   "metadata": {},
   "outputs": [],
   "source": [
    "class Camera(object):\n",
    "    XMAX = 1\n",
    "    XMIN = -1\n",
    "    YMAX = 1\n",
    "    YMIN = -1\n",
    "    MAXFOCUS = 7\n",
    "    MINFOCUS = -7\n",
    "    \n",
    "    def __init__(self, *args, **kwargs):\n",
    "        self.camera = ONVIFCamera(*args, **kwargs)\n",
    "        self.media = self.camera.create_media_service()\n",
    "        self.imaging = self.camera.create_imaging_service()\n",
    "        self.ptz = self.camera.create_ptz_service()\n",
    "\n",
    "        self.media_profile = self.media.GetProfiles()[0]\n",
    "        self.vstoken = self.media.GetVideoSources()[0]._token\n",
    "        \n",
    "        request = self.ptz.create_type('GetConfigurationOptions')\n",
    "        request.ConfigurationToken = self.media_profile.PTZConfiguration._token\n",
    "        ptz_configuration_options = self.ptz.GetConfigurationOptions(request)\n",
    "        self.XMAX = ptz_configuration_options.Spaces.ContinuousPanTiltVelocitySpace[0].XRange.Max\n",
    "        self.XMIN = ptz_configuration_options.Spaces.ContinuousPanTiltVelocitySpace[0].XRange.Min\n",
    "        self.YMAX = ptz_configuration_options.Spaces.ContinuousPanTiltVelocitySpace[0].YRange.Max\n",
    "        self.YMIN = ptz_configuration_options.Spaces.ContinuousPanTiltVelocitySpace[0].YRange.Min\n",
    "\n",
    "    # получаем координаты камеры\n",
    "    def get_status(self):\n",
    "        request = self.ptz.create_type('GetStatus')\n",
    "        request.ProfileToken = self.media_profile._token\n",
    "        return self.ptz.GetStatus(request)\n",
    "    \n",
    "    # получаем данные по фокусу\n",
    "    def get_focus_options(self):\n",
    "        request = self.imaging.create_type('GetMoveOptions')\n",
    "        request.VideoSourceToken = self.vstoken\n",
    "        return self.imaging.GetMoveOptions(request)\n",
    "    \n",
    "    # переход по абсолютным координатам\n",
    "    def absolute_move(self, x=0, y=0, z=0, velocity=1e-3):\n",
    "        request = self.ptz.create_type('AbsoluteMove')\n",
    "        request.ProfileToken = self.media_profile._token\n",
    "        request.Position.PanTilt._x = x\n",
    "        request.Position.PanTilt._y = y\n",
    "        request.Position.Zoom._x = z\n",
    "        self.ptz.AbsoluteMove(request)\n",
    "    \n",
    "    # получаем координаты камеры\n",
    "    def go_to_focus_position(self, x):\n",
    "        request = self.imaging.create_type('Move')\n",
    "        request.Focus = {}\n",
    "        request.VideoSourceToken = self.vstoken\n",
    "        request.Absolute = {'Position': x}\n",
    "        self.imaging.Move(request)\n",
    "    \n",
    "    # перемещение камеры в Continuous move\n",
    "    def perform_move(self, ptz, request, timeout):\n",
    "        ptz.ContinuousMove(request)\n",
    "        sleep(timeout)\n",
    "        ptz.Stop({'ProfileToken': request.ProfileToken})\n",
    "    \n",
    "    # режим ручной фокусировки\n",
    "    def set_manual_focus(self):\n",
    "        name = \"SetImagingSettings\"\n",
    "        self.imaging.create_type(name)\n",
    "        request = {'VideoSourceToken': self.vstoken, \n",
    "                   'ImagingSettings': {'Focus': {'AutoFocusMode': 'MANUAL'}}\n",
    "                  }\n",
    "        self.imaging.SetImagingSettings(request)\n",
    "    \n",
    "    # режим автоматической фокусировки\n",
    "    def reset_manual_focus(self):\n",
    "        name = \"SetImagingSettings\"\n",
    "        self.imaging.create_type(name)\n",
    "        request = {'VideoSourceToken': self.vstoken, \n",
    "                   'ImagingSettings': {'Focus': {'AutoFocusMode': 'AUTO'}}\n",
    "                  }\n",
    "        self.imaging.SetImagingSettings(request)\n",
    "    \n",
    "    # настройка фокуса\n",
    "    def perform_focus_move(self, request):\n",
    "        self.imaging.Move(request)\n",
    "        self.imaging.Stop({'VideoSourceToken': self.vstoken})\n",
    "    \n",
    "    # увеличение изображения на камере\n",
    "    def zoom_plus(self, ptq, request, timeout=1):\n",
    "        request.Velocity.Zoom._x = 1./5\n",
    "        self.perform_move(self.ptz, request, timeout)\n",
    "    \n",
    "    # уменьшение изображения на камере\n",
    "    def zoom_minus(self, ptq, request, timeout=1):\n",
    "        request.Velocity.Zoom._x = -1./5\n",
    "        self.perform_move(self.ptz, request, timeout)\n",
    "    \n",
    "    # поворот камеры вверх\n",
    "    def move_up(self, ptz, request, timeout=1):\n",
    "        request.Velocity.PanTilt._x = 0\n",
    "        request.Velocity.PanTilt._y = self.YMAX / 2\n",
    "        self.perform_move(ptz, request, timeout)\n",
    "\n",
    "    # поворот камеры вниз\n",
    "    def move_down(self, ptz, request, timeout=1):\n",
    "        request.Velocity.PanTilt._x = 0\n",
    "        request.Velocity.PanTilt._y = self.YMIN / 2\n",
    "        self.perform_move(ptz, request, timeout)\n",
    "\n",
    "    # поворот камеры направо\n",
    "    def move_right(self, ptz, request, timeout=1):\n",
    "        request.Velocity.PanTilt._x = self.XMAX / 2\n",
    "        request.Velocity.PanTilt._y = 0\n",
    "        self.perform_move(ptz, request, timeout)\n",
    "\n",
    "    # поворот камеры налево\n",
    "    def move_left(self, ptz, request, timeout=1):\n",
    "        request.Velocity.PanTilt._x = self.XMIN / 2\n",
    "        request.Velocity.PanTilt._y = 0\n",
    "        self.perform_move(ptz, request, timeout)\n",
    "    \n",
    "    # поворот камеры во все четыре стороны в режиме Continuous move\n",
    "    def continuous_move(self):\n",
    "        request = self.ptz.create_type('ContinuousMove')\n",
    "        request.ProfileToken = self.media_profile._token\n",
    "        \n",
    "        # вправо\n",
    "        self.move_right(self.ptz, request)\n",
    "        # влево\n",
    "        self.move_left(self.ptz, request)\n",
    "        # вверх\n",
    "        self.move_up(self.ptz, request)\n",
    "        # вниз\n",
    "        self.move_down(self.ptz, request)\n",
    "    \n",
    "    # фокусировка\n",
    "    def focus_in(self, request):\n",
    "        request.Focus = {'Continuous': {'Speed': self.MAXFOCUS / 2}}\n",
    "        self.perform_focus_move(request)\n",
    "    \n",
    "    # расфокусировка\n",
    "    def focus_out(self, request):\n",
    "        request.Focus = {'Continuous': {'Speed': self.MINFOCUS / 2}}\n",
    "        self.perform_focus_move(request)\n"
   ]
  },
  {
   "cell_type": "markdown",
   "metadata": {},
   "source": [
    "Подключение к камере"
   ]
  },
  {
   "cell_type": "code",
   "execution_count": 4,
   "metadata": {
    "scrolled": true
   },
   "outputs": [],
   "source": [
    "mycam = Camera(\n",
    "    'address',\n",
    "    port,\n",
    "    'user',\n",
    "    'password',\n",
    "    '/etc/onvif/wsdl/'\n",
    ")"
   ]
  },
  {
   "cell_type": "markdown",
   "metadata": {},
   "source": [
    "Вывод координат камеры "
   ]
  },
  {
   "cell_type": "code",
   "execution_count": 5,
   "metadata": {
    "scrolled": true
   },
   "outputs": [
    {
     "name": "stdout",
     "output_type": "stream",
     "text": [
      "(PTZStatus){\n",
      "   Position = \n",
      "      (PTZVector){\n",
      "         PanTilt = \n",
      "            (Vector2D){\n",
      "               _y = 1.0\n",
      "               _x = 0.994444\n",
      "               _space = \"http://www.onvif.org/ver10/tptz/PanTiltSpaces/PositionGenericSpace\"\n",
      "            }\n",
      "         Zoom = \n",
      "            (Vector1D){\n",
      "               _x = 0.0\n",
      "               _space = \"http://www.onvif.org/ver10/tptz/ZoomSpaces/PositionGenericSpace\"\n",
      "            }\n",
      "      }\n",
      "   Error = \"NO error\"\n",
      "   UtcTime = 2019-03-02 21:41:21\n",
      " }\n"
     ]
    }
   ],
   "source": [
    "print mycam.get_status()\n"
   ]
  },
  {
   "cell_type": "markdown",
   "metadata": {},
   "source": [
    "Переход по абсолютным координатам"
   ]
  },
  {
   "cell_type": "code",
   "execution_count": 6,
   "metadata": {},
   "outputs": [],
   "source": [
    "mycam.absolute_move(0.8, -0.3, 0)"
   ]
  },
  {
   "cell_type": "code",
   "execution_count": 7,
   "metadata": {},
   "outputs": [],
   "source": [
    "mycam.absolute_move(-0.6, 0.5, 0.7)"
   ]
  },
  {
   "cell_type": "markdown",
   "metadata": {},
   "source": [
    "Перемещение камеры в Continuous move"
   ]
  },
  {
   "cell_type": "code",
   "execution_count": 8,
   "metadata": {},
   "outputs": [],
   "source": [
    "mycam.continuous_move()"
   ]
  },
  {
   "cell_type": "code",
   "execution_count": 9,
   "metadata": {
    "scrolled": true
   },
   "outputs": [
    {
     "name": "stdout",
     "output_type": "stream",
     "text": [
      "(MoveOptions20){\n",
      "   Continuous = \n",
      "      (ContinuousFocusOptions){\n",
      "         Speed = \n",
      "            (FloatRange){\n",
      "               Min = -7.0\n",
      "               Max = 7.0\n",
      "            }\n",
      "      }\n",
      " }\n"
     ]
    }
   ],
   "source": [
    "print mycam.get_focus_options()"
   ]
  },
  {
   "cell_type": "markdown",
   "metadata": {},
   "source": [
    "Установка режима ручной фокусировки"
   ]
  },
  {
   "cell_type": "code",
   "execution_count": 10,
   "metadata": {},
   "outputs": [],
   "source": [
    "mycam.set_manual_focus()"
   ]
  },
  {
   "cell_type": "markdown",
   "metadata": {},
   "source": [
    "Изменение фокуса "
   ]
  },
  {
   "cell_type": "code",
   "execution_count": 11,
   "metadata": {},
   "outputs": [],
   "source": [
    "req = mycam.imaging.create_type('Move')\n",
    "req.VideoSourceToken = mycam.vstoken\n",
    "req.Focus = {'Continuous': {'Speed': 7}}\n",
    "mycam.perform_focus_move(req)\n",
    "mycam.perform_focus_move(req)\n",
    "mycam.perform_focus_move(req)\n",
    "mycam.perform_focus_move(req)"
   ]
  },
  {
   "cell_type": "markdown",
   "metadata": {},
   "source": [
    "# Работа с камерой с помощью клавиатуры"
   ]
  },
  {
   "cell_type": "code",
   "execution_count": 12,
   "metadata": {},
   "outputs": [],
   "source": [
    "class KeyboardCam(Camera):\n",
    "    def __init__(self, *args, **kwargs):\n",
    "        super(KeyboardCam, self).__init__(*args, **kwargs)\n",
    "        \n",
    "    def on_release(self, key):\n",
    "        if key == keyboard.Key.esc:\n",
    "            return False\n",
    "    \n",
    "    def on_press(self, key):\n",
    "        \n",
    "        # зум - стрелки вверх/вниз, движение камеры - стрелки влево/вправо\n",
    "        self.request = self.ptz.create_type('ContinuousMove')\n",
    "        self.request.ProfileToken = self.media_profile._token\n",
    "        \n",
    "        if key == keyboard.Key.up:\n",
    "                self.zoom_plus(self.ptz, self.request, timeout=0)\n",
    "        if key == keyboard.Key.down:\n",
    "                self.zoom_minus(self.ptz, self.request, timeout=0)\n",
    "        if key == keyboard.Key.left:\n",
    "            self.move_left(self.ptz, self.request, timeout=0)\n",
    "        if key == keyboard.Key.right:\n",
    "            self.move_right(self.ptz, self.request, timeout=0)\n",
    "        \n",
    "        # настройка фокуса - клавиши i/o\n",
    "        request = self.imaging.create_type('Move')\n",
    "        request.VideoSourceToken = self.vstoken\n",
    "        try:\n",
    "            if key.char == \"i\":\n",
    "                self.focus_in(request)\n",
    "        except AttributeError:\n",
    "            pass\n",
    "        try:\n",
    "            if key.char == \"o\":\n",
    "                self.focus_out(request)\n",
    "        except AttributeError:\n",
    "            pass\n",
    "         \n",
    "    def listen_input(self):\n",
    "        with keyboard.Listener(\n",
    "            on_press=self.on_press,\n",
    "            on_release=self.on_release\n",
    "        ) as listener:\n",
    "            listener.join()"
   ]
  },
  {
   "cell_type": "code",
   "execution_count": 13,
   "metadata": {},
   "outputs": [],
   "source": [
    "keyboard_cam = KeyboardCam(\n",
    "    'address',\n",
    "    port,\n",
    "    'user',\n",
    "    'password',\n",
    "    '/etc/onvif/wsdl/'\n",
    ")"
   ]
  },
  {
   "cell_type": "code",
   "execution_count": 14,
   "metadata": {},
   "outputs": [],
   "source": [
    "keyboard_cam.listen_input()"
   ]
  }
 ],
 "metadata": {
  "kernelspec": {
   "display_name": "Python 2",
   "language": "python",
   "name": "python2"
  },
  "language_info": {
   "codemirror_mode": {
    "name": "ipython",
    "version": 2
   },
   "file_extension": ".py",
   "mimetype": "text/x-python",
   "name": "python",
   "nbconvert_exporter": "python",
   "pygments_lexer": "ipython2",
   "version": "2.7.15"
  }
 },
 "nbformat": 4,
 "nbformat_minor": 2
}
